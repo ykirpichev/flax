{
 "cells": [
  {
   "cell_type": "markdown",
   "id": "0",
   "metadata": {
    "id": "0"
   },
   "source": [
    "[![Open in Colab](https://colab.research.google.com/assets/colab-badge.svg)](https://colab.research.google.com/github/google/flax/blob/main/docs/nnx/penguins_tutorial.ipynb)\n",
    "[![Open On GitHub](https://img.shields.io/badge/Open-on%20GitHub-blue?logo=GitHub)](https://github.com/google/flax/blob/main/docs/nnx/penguins_tutorial.ipynb)\n",
    "\n",
    "# Penguins Tutorial\n",
    "\n",
    "Welcome to NNX! This tutorial will guide you through building and training a simple\n",
    "neural network on the Penguins dataset using the NNX API. NNX is a Python neural network library\n",
    "built upon [JAX](https://github.com/google/jax) and currently offered as an experimental module within\n",
    "[Flax](https://github.com/google/flax)."
   ]
  },
  {
   "cell_type": "markdown",
   "id": "1",
   "metadata": {
    "id": "1"
   },
   "source": [
    "## 1. Install NNX\n",
    "\n",
    "Since NNX is under active development, we recommend using the latest version from the Flax GitHub repository:"
   ]
  },
  {
   "cell_type": "code",
   "execution_count": 1,
   "id": "2",
   "metadata": {
    "id": "2",
    "tags": [
     "skip-execution"
    ]
   },
   "outputs": [],
   "source": [
    "# !pip install git+https://github.com/google/flax.git"
   ]
  },
  {
   "cell_type": "markdown",
   "id": "3",
   "metadata": {
    "id": "3"
   },
   "source": [
    "## 2. Load the Penguins Dataset\n",
    "\n",
    "First, the Penguins dataset is loaded and prepared for training and testing using\n",
    "Tensorflow Datasets. [Penguins](https://www.tensorflow.org/datasets/catalog/penguins) dataset is available in 3 different version:\n",
    "* [penguins/processed](https://www.tensorflow.org/datasets/catalog/penguins#penguinsprocessed_default_config)\n",
    "* [penguins/simple](https://www.tensorflow.org/datasets/catalog/penguins#penguinssimple)\n",
    "* [penguins/raw](https://www.tensorflow.org/datasets/catalog/penguins#penguinsraw)\n",
    "\n",
    "For simplisity, we will use `penguins/processed` version which contains 4 normalised numerical features presented as a single tensor, no missing values and the class label (species) is presented as an integer (n = 334)."
   ]
  },
  {
   "cell_type": "code",
   "execution_count": 2,
   "id": "4",
   "metadata": {
    "id": "4"
   },
   "outputs": [],
   "source": [
    "import tensorflow_datasets as tfds  # TFDS for Penguins\n",
    "import matplotlib.pyplot as plt\n",
    "\n",
    "# original link: https://www.tensorflow.org/tutorials/customization/custom_training_walkthrough\n",
    "ds_split, info = tfds.load(\"penguins/processed\", split=['train[:20%]', 'train[20%:]'], as_supervised=True, with_info=True)\n",
    "\n",
    "ds_test = ds_split[0].batch(32, drop_remainder=True)\n",
    "ds_train = ds_split[1].batch(32, drop_remainder=True)"
   ]
  },
  {
   "cell_type": "markdown",
   "id": "btl3xDNrk_n0",
   "metadata": {
    "id": "btl3xDNrk_n0"
   },
   "source": [
    "Let's visualize some clusters by plotting a few features from the batch:"
   ]
  },
  {
   "cell_type": "code",
   "execution_count": 3,
   "id": "5m0lo-K6k-Dm",
   "metadata": {
    "colab": {
     "base_uri": "https://localhost:8080/",
     "height": 449
    },
    "id": "5m0lo-K6k-Dm",
    "outputId": "9f419ffa-e0a9-412e-b7eb-dc96c41b7bbc"
   },
   "outputs": [
    {
     "data": {
      "image/png": "[encoded data removed]",
      "text/plain": [
       "<Figure size 640x480 with 1 Axes>"
      ]
     },
     "metadata": {},
     "output_type": "display_data"
    }
   ],
   "source": [
    "features, labels = next(iter(ds_train))\n",
    "\n",
    "plt.scatter(features[:,0],\n",
    "            features[:,2],\n",
    "            c=labels,\n",
    "            cmap='viridis')\n",
    "\n",
    "plt.xlabel(\"Body Mass\")\n",
    "plt.ylabel(\"Culmen Length\")\n",
    "plt.show()"
   ]
  },
  {
   "cell_type": "markdown",
   "id": "5",
   "metadata": {
    "id": "5"
   },
   "source": [
    "## 3. Define the Network with NNX\n",
    "\n",
    "Create a DNN with NNX by subclassing `nnx.Module`."
   ]
  },
  {
   "cell_type": "code",
   "execution_count": 4,
   "id": "6",
   "metadata": {
    "colab": {
     "base_uri": "https://localhost:8080/"
    },
    "id": "6",
    "outputId": "62786b15-315b-4deb-afc6-8896ea012770"
   },
   "outputs": [
    {
     "name": "stdout",
     "output_type": "stream",
     "text": [
      "SimpleDNN(\n",
      "  linear1=Linear(\n",
      "    kernel=Param(\n",
      "      value=Array(shape=(4, 10), dtype=float32)\n",
      "    ),\n",
      "    bias=Param(\n",
      "      value=Array(shape=(10,), dtype=float32)\n",
      "    ),\n",
      "    in_features=4,\n",
      "    out_features=10,\n",
      "    use_bias=True,\n",
      "    dtype=None,\n",
      "    param_dtype=<class 'jax.numpy.float32'>,\n",
      "    precision=None,\n",
      "    kernel_init=<function variance_scaling.<locals>.init at 0x781f560c53f0>,\n",
      "    bias_init=<function zeros at 0x781f6575d090>,\n",
      "    dot_general=<function dot_general at 0x781f65e95090>\n",
      "  ),\n",
      "  linear2=Linear(\n",
      "    kernel=Param(\n",
      "      value=Array(shape=(10, 10), dtype=float32)\n",
      "    ),\n",
      "    bias=Param(\n",
      "      value=Array(shape=(10,), dtype=float32)\n",
      "    ),\n",
      "    in_features=10,\n",
      "    out_features=10,\n",
      "    use_bias=True,\n",
      "    dtype=None,\n",
      "    param_dtype=<class 'jax.numpy.float32'>,\n",
      "    precision=None,\n",
      "    kernel_init=<function variance_scaling.<locals>.init at 0x781f560c53f0>,\n",
      "    bias_init=<function zeros at 0x781f6575d090>,\n",
      "    dot_general=<function dot_general at 0x781f65e95090>\n",
      "  ),\n",
      "  linear3=Linear(\n",
      "    kernel=Param(\n",
      "      value=Array(shape=(10, 3), dtype=float32)\n",
      "    ),\n",
      "    bias=Param(\n",
      "      value=Array(shape=(3,), dtype=float32)\n",
      "    ),\n",
      "    in_features=10,\n",
      "    out_features=3,\n",
      "    use_bias=True,\n",
      "    dtype=None,\n",
      "    param_dtype=<class 'jax.numpy.float32'>,\n",
      "    precision=None,\n",
      "    kernel_init=<function variance_scaling.<locals>.init at 0x781f560c53f0>,\n",
      "    bias_init=<function zeros at 0x781f6575d090>,\n",
      "    dot_general=<function dot_general at 0x781f65e95090>\n",
      "  )\n",
      ")\n"
     ]
    }
   ],
   "source": [
    "from flax import nnx  # NNX API\n",
    "\n",
    "class SimpleDNN(nnx.Module):\n",
    "  \"\"\"A simple DNN model.\"\"\"\n",
    "\n",
    "  def __init__(self, *, rngs: nnx.Rngs):\n",
    "    self.linear1 = nnx.Linear( 4, 10, rngs=rngs)\n",
    "    self.linear2 = nnx.Linear(10, 10, rngs=rngs)\n",
    "    self.linear3 = nnx.Linear(10,  3, rngs=rngs)\n",
    "\n",
    "  def __call__(self, x):\n",
    "    x = nnx.relu(self.linear1(x))\n",
    "    x = nnx.relu(self.linear2(x))\n",
    "    x = self.linear3(x)\n",
    "    return x\n",
    "\n",
    "model = SimpleDNN(rngs=nnx.Rngs(0))\n",
    "nnx.display(model)"
   ]
  },
  {
   "cell_type": "markdown",
   "id": "7",
   "metadata": {
    "id": "7"
   },
   "source": [
    "### Run model\n",
    "\n",
    "Let's put our model to the test!  We'll perform a forward pass with arbitrary data and print the results."
   ]
  },
  {
   "cell_type": "code",
   "execution_count": 5,
   "id": "8",
   "metadata": {
    "colab": {
     "base_uri": "https://localhost:8080/"
    },
    "id": "8",
    "outputId": "c90b5909-5b36-4196-bbf9-86b0627cba23"
   },
   "outputs": [
    {
     "name": "stdout",
     "output_type": "stream",
     "text": [
      "[[-0.5253621   0.18314967 -0.05993876]\n",
      " [-0.9001121   0.33735085 -0.10472799]\n",
      " [-0.3428089   0.8227411  -0.2038013 ]\n",
      " [-0.4054175   0.53169316 -0.374483  ]\n",
      " [-0.06584015  1.3513488  -1.0331334 ]]\n",
      "[[0.21627913 0.43925563 0.34446523]\n",
      " [0.1501017  0.5173792  0.3325191 ]\n",
      " [0.18667795 0.59880435 0.21451774]\n",
      " [0.21814944 0.5568473  0.22500324]\n",
      " [0.18163268 0.7493269  0.06904049]]\n"
     ]
    }
   ],
   "source": [
    "import jax\n",
    "\n",
    "y = model(jax.random.normal(jax.random.PRNGKey(0), (5, 4)))\n",
    "nnx.display(y)\n",
    "nnx.display(nnx.softmax(y))"
   ]
  },
  {
   "cell_type": "markdown",
   "id": "9",
   "metadata": {
    "id": "9"
   },
   "source": [
    "## 4. Create Optimizer and Metrics\n",
    "\n",
    "In NNX, we create an `Optimizer` object to manage the model's parameters and apply gradients during training. `Optimizer` receives the model's reference so it can update its parameters, and an `optax` optimizer to define the update rules. Additionally, we'll define a `MultiMetric` object to keep track of the `Accuracy` and the `Average` loss."
   ]
  },
  {
   "cell_type": "code",
   "execution_count": 6,
   "id": "12",
   "metadata": {
    "id": "12"
   },
   "outputs": [],
   "source": [
    "import optax\n",
    "\n",
    "# using the same optimizer as used by https://www.tensorflow.org/tutorials/customization/custom_training_walkthrough#create_an_optimizer\n",
    "# but more optimizers are available, check https://optax.readthedocs.io/en/latest/api/optimizers.html for the full list.\n",
    "optimizer = nnx.Optimizer(model, optax.sgd(learning_rate=0.05))\n",
    "metrics = nnx.MultiMetric(\n",
    "  accuracy=nnx.metrics.Accuracy(),\n",
    "  loss=nnx.metrics.Average('loss'),\n",
    ")"
   ]
  },
  {
   "cell_type": "markdown",
   "id": "13",
   "metadata": {
    "id": "13"
   },
   "source": [
    "## 5. Define step functions\n",
    "\n",
    "We define a loss function using cross entropy loss (see more details in [`optax.softmax_cross_entropy_with_integer_labels()`](https://optax.readthedocs.io/en/latest/api/losses.html#optax.softmax_cross_entropy_with_integer_labels)) that our model will optimize over. In addition to the loss, the logits are also outputted since they will be used to calculate the accuracy metric during training and testing. During training, we'll use `nnx.value_and_grad` to compute the gradients and update the model's parameters using the optimizer. During both training and testing, the loss and logits are used to calculate the metrics."
   ]
  },
  {
   "cell_type": "code",
   "execution_count": 7,
   "id": "OQkmcJNcsiEv",
   "metadata": {
    "id": "OQkmcJNcsiEv"
   },
   "outputs": [],
   "source": [
    "def loss_fn(model: SimpleDNN, data, labels):\n",
    "  logits = model(data)\n",
    "  loss = optax.softmax_cross_entropy_with_integer_labels(\n",
    "    logits=logits, labels=labels\n",
    "  ).mean()\n",
    "  return loss, logits\n",
    "\n",
    "@nnx.jit\n",
    "def train_step(model: SimpleDNN, optimizer: nnx.Optimizer, metrics: nnx.MultiMetric, data, labels):\n",
    "  \"\"\"Train for a single step.\"\"\"\n",
    "  grad_fn = nnx.value_and_grad(loss_fn, has_aux=True)\n",
    "  (loss, logits), grads = grad_fn(model, data, labels)\n",
    "  metrics.update(loss=loss, logits=logits, labels=labels)  # inplace updates\n",
    "  optimizer.update(grads)  # inplace updates\n",
    "\n",
    "@nnx.jit\n",
    "def eval_step(model: SimpleDNN, metrics: nnx.MultiMetric, data, labels):\n",
    "  loss, logits = loss_fn(model, data, labels)\n",
    "  metrics.update(loss=loss, logits=logits, labels=labels)"
   ]
  },
  {
   "cell_type": "markdown",
   "id": "17",
   "metadata": {
    "id": "17"
   },
   "source": [
    "The [`nnx.jit`](https://flax.readthedocs.io/en/latest/api_reference/flax.nnx/transforms.html#flax.nnx.jit) decorator traces the `train_step` function for just-in-time compilation with\n",
    "[XLA](https://www.tensorflow.org/xla), optimizing performance on\n",
    "hardware accelerators. `nnx.jit` is similar to [`jax.jit`](https://jax.readthedocs.io/en/latest/_autosummary/jax.jit.html#jax.jit),\n",
    "except it can transforms functions that contain NNX objects as inputs and outputs.\n",
    "\n",
    "**NOTE**: in the above code we performed serveral inplace updates to the model, optimizer, and metrics, and we did not explicitely return the state updates. This is because NNX transforms respect reference semantics for NNX objects, and will propagate the state updates of the objects passed as input arguments. This is a key feature of NNX that allows for a more concise and readable code."
   ]
  },
  {
   "cell_type": "markdown",
   "id": "21",
   "metadata": {
    "id": "21"
   },
   "source": [
    "## 6. Train and Evaluate\n",
    "\n",
    "Now we train a model using batches of data for 10 epochs, evaluate its performance\n",
    "on the test set after each epoch, and log the training and testing metrics (loss and\n",
    "accuracy) throughout the process. Typically this leads to a model with around 99% accuracy."
   ]
  },
  {
   "cell_type": "code",
   "execution_count": 8,
   "id": "5O6jqtfcr1pX",
   "metadata": {
    "colab": {
     "base_uri": "https://localhost:8080/"
    },
    "id": "5O6jqtfcr1pX",
    "outputId": "8767cd30-3317-4483-dd57-d11aa7c243f1"
   },
   "outputs": [
    {
     "name": "stdout",
     "output_type": "stream",
     "text": [
      "[train] epoch[0]: accuracy: 0.191\n",
      "[train] epoch[0]: loss: 1.115\n",
      "[test] epoch[0]: accuracy: 0.219\n",
      "[test] epoch[0]: loss: 1.091\n",
      "[train] epoch[50]: accuracy: 0.812\n",
      "[train] epoch[50]: loss: 0.402\n",
      "[test] epoch[50]: accuracy: 0.766\n",
      "[test] epoch[50]: loss: 0.442\n",
      "[train] epoch[100]: accuracy: 0.812\n",
      "[train] epoch[100]: loss: 0.371\n",
      "[test] epoch[100]: accuracy: 0.766\n",
      "[test] epoch[100]: loss: 0.406\n",
      "[train] epoch[150]: accuracy: 0.949\n",
      "[train] epoch[150]: loss: 0.176\n",
      "[test] epoch[150]: accuracy: 0.953\n",
      "[test] epoch[150]: loss: 0.159\n",
      "[train] epoch[200]: accuracy: 0.969\n",
      "[train] epoch[200]: loss: 0.075\n",
      "[test] epoch[200]: accuracy: 0.984\n",
      "[test] epoch[200]: loss: 0.056\n"
     ]
    }
   ],
   "source": [
    "# Keep results for plotting\n",
    "metrics_history = {\n",
    "  'train_loss': [],\n",
    "  'train_accuracy': [],\n",
    "  'test_loss': [],\n",
    "  'test_accuracy': [],\n",
    "}\n",
    "\n",
    "num_epochs = 201\n",
    "\n",
    "for epoch in range(num_epochs):\n",
    "  for x, y in ds_train.as_numpy_iterator():\n",
    "    # Optimize the model\n",
    "    train_step(model, optimizer, metrics, x, y)\n",
    "  for metric, value in metrics.compute().items():  # compute metrics\n",
    "    metrics_history[f'train_{metric}'].append(value)  # record metrics\n",
    "    if epoch % 50 == 0:\n",
    "      print(f\"[train] epoch[{epoch}]: {metric}: {value:.3f}\")\n",
    "  metrics.reset()  # reset metrics for test set\n",
    "\n",
    "  for test_x, test_y in ds_test.as_numpy_iterator():\n",
    "    eval_step(model, metrics, test_x, test_y)\n",
    "\n",
    "  for metric, value in metrics.compute().items():  # compute metrics\n",
    "    metrics_history[f'test_{metric}'].append(value)  # record metrics\n",
    "    if epoch % 50 == 0:\n",
    "      print(f\"[test] epoch[{epoch}]: {metric}: {value:.3f}\")\n",
    "  metrics.reset()  # reset metrics for test set"
   ]
  },
  {
   "cell_type": "markdown",
   "id": "23",
   "metadata": {
    "id": "23"
   },
   "source": [
    "## 7. Visualize Metrics\n",
    "\n",
    "Use Matplotlib to create plots for loss and accuracy."
   ]
  },
  {
   "cell_type": "code",
   "execution_count": 9,
   "id": "24",
   "metadata": {
    "colab": {
     "base_uri": "https://localhost:8080/",
     "height": 468
    },
    "id": "24",
    "outputId": "add8514d-c961-495a-936b-bec37802828b"
   },
   "outputs": [
    {
     "data": {
      "image/png": "[encoded data removed]",
      "text/plain": [
       "<Figure size 1500x500 with 2 Axes>"
      ]
     },
     "metadata": {},
     "output_type": "display_data"
    }
   ],
   "source": [
    "import matplotlib.pyplot as plt  # Visualization\n",
    "\n",
    "# Plot loss and accuracy in subplots\n",
    "fig, (ax1, ax2) = plt.subplots(1, 2, figsize=(15, 5))\n",
    "ax1.set_title('Loss')\n",
    "ax2.set_title('Accuracy')\n",
    "for dataset in ('train', 'test'):\n",
    "  ax1.plot(metrics_history[f'{dataset}_loss'], label=f'{dataset}_loss')\n",
    "  ax2.plot(metrics_history[f'{dataset}_accuracy'], label=f'{dataset}_accuracy')\n",
    "ax1.legend()\n",
    "ax2.legend()\n",
    "plt.show()"
   ]
  },
  {
   "cell_type": "markdown",
   "id": "25",
   "metadata": {
    "id": "25"
   },
   "source": [
    "## 8. Perform inference on test examples\n",
    "\n",
    "Define a jitted inference function, `pred_step`, to generate predictions on the test examples using the learned model parameters."
   ]
  },
  {
   "cell_type": "code",
   "execution_count": 16,
   "id": "nsMlpG2rDBWO",
   "metadata": {
    "id": "nsMlpG2rDBWO"
   },
   "outputs": [],
   "source": [
    "import jax.numpy as jnp\n",
    "\n",
    "@nnx.jit\n",
    "def pred_step(model: SimpleDNN, batch):\n",
    "  logits = model(batch)\n",
    "  cls = logits.argmax(axis=1)\n",
    "  return cls, jnp.take_along_axis(nnx.softmax(logits, axis=1), cls[..., None], axis=1), logits"
   ]
  },
  {
   "cell_type": "code",
   "execution_count": 19,
   "id": "xa_pcOlMDAOs",
   "metadata": {
    "colab": {
     "base_uri": "https://localhost:8080/"
    },
    "id": "xa_pcOlMDAOs",
    "outputId": "1de93c7a-57b1-4d84-d767-aff1fc9957b6"
   },
   "outputs": [
    {
     "name": "stdout",
     "output_type": "stream",
     "text": [
      "Example 0 prediction: Adélie (99.4%)\n",
      "Example 1 prediction: Gentoo (99.4%)\n",
      "Example 2 prediction: Chinstrap (94.4%)\n"
     ]
    }
   ],
   "source": [
    "predict_dataset = jnp.array([\n",
    "    [0.3, 0.8, 0.4, 0.5,],\n",
    "    [0.4, 0.1, 0.8, 0.5,],\n",
    "    [0.7, 0.9, 0.8, 0.4]\n",
    "])\n",
    "\n",
    "predictions = pred_step(model, predict_dataset)\n",
    "class_names = ['Adélie', 'Chinstrap', 'Gentoo']\n",
    "\n",
    "for i,  (class_idx, prob, logits) in enumerate(zip(*predictions)):\n",
    "  name = class_names[class_idx]\n",
    "  print(\"Example {} prediction: {} ({:4.1f}%)\".format(i, name, 100*prob[0]))"
   ]
  },
  {
   "cell_type": "markdown",
   "id": "J35lY1zLjXxJ",
   "metadata": {
    "id": "J35lY1zLjXxJ"
   },
   "source": [
    "#Saving Models"
   ]
  },
  {
   "cell_type": "code",
   "execution_count": 23,
   "id": "EJHLqY__jRS0",
   "metadata": {
    "id": "EJHLqY__jRS0"
   },
   "outputs": [],
   "source": [
    "import orbax.checkpoint as orbax\n",
    "\n",
    "checkpointer = orbax.PyTreeCheckpointer()\n",
    "checkpointer.save('/tmp/penguins-state', nnx.state(model), force=True)"
   ]
  },
  {
   "cell_type": "markdown",
   "id": "hxXeYOt1ja5P",
   "metadata": {
    "id": "hxXeYOt1ja5P"
   },
   "source": [
    "#Loading Models"
   ]
  },
  {
   "cell_type": "code",
   "execution_count": 42,
   "id": "s5nXa20ajaaL",
   "metadata": {
    "colab": {
     "base_uri": "https://localhost:8080/"
    },
    "id": "s5nXa20ajaaL",
    "outputId": "21311772-daeb-47e2-f082-86ed2a138dc8"
   },
   "outputs": [
    {
     "name": "stderr",
     "output_type": "stream",
     "text": [
      "/usr/local/lib/python3.10/dist-packages/orbax/checkpoint/type_handlers.py:1442: UserWarning: Couldn't find sharding info under RestoreArgs. Populating sharding info from sharding file. Please note restoration time will be slightly increased due to reading from file instead of directly from RestoreArgs. Note also that this option is unsafe when restoring on a different topology than the checkpoint was saved with.\n",
      "  warnings.warn(\n"
     ]
    }
   ],
   "source": [
    "restored_model = SimpleDNN(rngs=nnx.Rngs(0))\n",
    "restored_state = checkpointer.restore('/tmp/penguins-state', item=nnx.state(restored_model))\n",
    "nnx.update(restored_model, restored_state)"
   ]
  },
  {
   "cell_type": "markdown",
   "id": "AhmrdqBUkuz2",
   "metadata": {
    "id": "AhmrdqBUkuz2"
   },
   "source": [
    "## Validate restored model\n",
    "\n",
    "Now, let's check if restored model produces the same results as an original model"
   ]
  },
  {
   "cell_type": "code",
   "execution_count": 44,
   "id": "ocC3RTYhk4TZ",
   "metadata": {
    "colab": {
     "base_uri": "https://localhost:8080/"
    },
    "id": "ocC3RTYhk4TZ",
    "outputId": "abe8615f-e367-4c15-d80f-9310101abbf7"
   },
   "outputs": [
    {
     "name": "stdout",
     "output_type": "stream",
     "text": [
      "Predictions by original model\n",
      "[[ 7.665731    2.4766412  -7.28208   ]\n",
      " [-5.676718    0.1893698   5.245333  ]\n",
      " [ 0.24301164  3.123489   -2.6841788 ]]\n",
      "Predictions by restored model\n",
      "[[ 7.665731    2.4766412  -7.28208   ]\n",
      " [-5.676718    0.1893698   5.245333  ]\n",
      " [ 0.24301164  3.123489   -2.6841788 ]]\n"
     ]
    },
    {
     "data": {
      "text/plain": [
       "Array(True, dtype=bool)"
      ]
     },
     "execution_count": 44,
     "metadata": {},
     "output_type": "execute_result"
    }
   ],
   "source": [
    "predictions_by_original_model = pred_step(model, predict_dataset)\n",
    "predictions_by_restored_model = pred_step(restored_model, predict_dataset)\n",
    "\n",
    "print(\"Predictions by original model\")\n",
    "print(predictions_by_original_model[2])\n",
    "print(\"Predictions by restored model\")\n",
    "print(predictions_by_restored_model[2])\n",
    "jnp.allclose(predictions_by_original_model[2], predictions_by_restored_model[2])"
   ]
  },
  {
   "cell_type": "code",
   "execution_count": null,
   "id": "CQ7OuPHTlLQ0",
   "metadata": {
    "id": "CQ7OuPHTlLQ0"
   },
   "outputs": [],
   "source": []
  },
  {
   "cell_type": "markdown",
   "id": "28",
   "metadata": {
    "id": "28"
   },
   "source": [
    "Congratulations! You made it to the end of the annotated Penguins example."
   ]
  },
  {
   "cell_type": "code",
   "execution_count": 11,
   "id": "Utzj4yjiHR3x",
   "metadata": {
    "id": "Utzj4yjiHR3x"
   },
   "outputs": [],
   "source": []
  }
 ],
 "metadata": {
  "colab": {
   "provenance": []
  },
  "jupytext": {
   "formats": "ipynb,md:myst",
   "main_language": "python"
  },
  "kernelspec": {
   "display_name": "Python 3",
   "name": "python3"
  },
  "language_info": {
   "name": "python"
  }
 },
 "nbformat": 4,
 "nbformat_minor": 5
}
